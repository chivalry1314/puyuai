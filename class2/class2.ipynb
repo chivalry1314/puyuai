{
 "cells": [
  {
   "cell_type": "code",
   "execution_count": 1,
   "metadata": {},
   "outputs": [
    {
     "name": "stdout",
     "output_type": "stream",
     "text": [
      "Collecting huggingface_hub\n",
      "  Downloading huggingface_hub-0.23.1-py3-none-any.whl.metadata (12 kB)\n",
      "Collecting filelock (from huggingface_hub)\n",
      "  Using cached filelock-3.14.0-py3-none-any.whl.metadata (2.8 kB)\n",
      "Collecting fsspec>=2023.5.0 (from huggingface_hub)\n",
      "  Downloading fsspec-2024.5.0-py3-none-any.whl.metadata (11 kB)\n",
      "Requirement already satisfied: packaging>=20.9 in d:\\puyuai\\puyuai\\.venv\\lib\\site-packages (from huggingface_hub) (24.0)\n",
      "Collecting pyyaml>=5.1 (from huggingface_hub)\n",
      "  Downloading PyYAML-6.0.1-cp312-cp312-win_amd64.whl.metadata (2.1 kB)\n",
      "Collecting requests (from huggingface_hub)\n",
      "  Downloading requests-2.32.2-py3-none-any.whl.metadata (4.6 kB)\n",
      "Collecting tqdm>=4.42.1 (from huggingface_hub)\n",
      "  Downloading tqdm-4.66.4-py3-none-any.whl.metadata (57 kB)\n",
      "     ---------------------------------------- 0.0/57.6 kB ? eta -:--:--\n",
      "     ------- -------------------------------- 10.2/57.6 kB ? eta -:--:--\n",
      "     -------------------- ----------------- 30.7/57.6 kB 660.6 kB/s eta 0:00:01\n",
      "     --------------------------------- ---- 51.2/57.6 kB 440.4 kB/s eta 0:00:01\n",
      "     -------------------------------------- 57.6/57.6 kB 378.5 kB/s eta 0:00:00\n",
      "Collecting typing-extensions>=3.7.4.3 (from huggingface_hub)\n",
      "  Downloading typing_extensions-4.12.0-py3-none-any.whl.metadata (3.0 kB)\n",
      "Requirement already satisfied: colorama in d:\\puyuai\\puyuai\\.venv\\lib\\site-packages (from tqdm>=4.42.1->huggingface_hub) (0.4.6)\n",
      "Collecting charset-normalizer<4,>=2 (from requests->huggingface_hub)\n",
      "  Downloading charset_normalizer-3.3.2-cp312-cp312-win_amd64.whl.metadata (34 kB)\n",
      "Collecting idna<4,>=2.5 (from requests->huggingface_hub)\n",
      "  Using cached idna-3.7-py3-none-any.whl.metadata (9.9 kB)\n",
      "Collecting urllib3<3,>=1.21.1 (from requests->huggingface_hub)\n",
      "  Using cached urllib3-2.2.1-py3-none-any.whl.metadata (6.4 kB)\n",
      "Collecting certifi>=2017.4.17 (from requests->huggingface_hub)\n",
      "  Using cached certifi-2024.2.2-py3-none-any.whl.metadata (2.2 kB)\n",
      "Downloading huggingface_hub-0.23.1-py3-none-any.whl (401 kB)\n",
      "   ---------------------------------------- 0.0/401.3 kB ? eta -:--:--\n",
      "   ---------------------------------------- 0.0/401.3 kB ? eta -:--:--\n",
      "   ---------------------------------------- 0.0/401.3 kB ? eta -:--:--\n",
      "   ---------------------------------------- 0.0/401.3 kB ? eta -:--:--\n",
      "   ---- ----------------------------------- 41.0/401.3 kB 1.9 MB/s eta 0:00:01\n",
      "   ----- --------------------------------- 61.4/401.3 kB 656.4 kB/s eta 0:00:01\n",
      "   ----- --------------------------------- 61.4/401.3 kB 656.4 kB/s eta 0:00:01\n",
      "   ------- ------------------------------- 81.9/401.3 kB 573.4 kB/s eta 0:00:01\n",
      "   ---------- --------------------------- 112.6/401.3 kB 467.6 kB/s eta 0:00:01\n",
      "   ---------- --------------------------- 112.6/401.3 kB 467.6 kB/s eta 0:00:01\n",
      "   ---------- --------------------------- 112.6/401.3 kB 467.6 kB/s eta 0:00:01\n",
      "   ---------- --------------------------- 112.6/401.3 kB 467.6 kB/s eta 0:00:01\n",
      "   ---------- --------------------------- 112.6/401.3 kB 467.6 kB/s eta 0:00:01\n",
      "   ---------- --------------------------- 112.6/401.3 kB 467.6 kB/s eta 0:00:01\n",
      "   ----------------------- -------------- 245.8/401.3 kB 485.6 kB/s eta 0:00:01\n",
      "   ----------------------- -------------- 245.8/401.3 kB 485.6 kB/s eta 0:00:01\n",
      "   ----------------------- -------------- 245.8/401.3 kB 485.6 kB/s eta 0:00:01\n",
      "   -------------------------- ----------- 276.5/401.3 kB 426.0 kB/s eta 0:00:01\n",
      "   --------------------------- ---------- 286.7/401.3 kB 411.4 kB/s eta 0:00:01\n",
      "   ------------------------------- ------ 327.7/401.3 kB 431.9 kB/s eta 0:00:01\n",
      "   ------------------------------- ------ 327.7/401.3 kB 431.9 kB/s eta 0:00:01\n",
      "   ------------------------------- ------ 327.7/401.3 kB 431.9 kB/s eta 0:00:01\n",
      "   ------------------------------- ------ 327.7/401.3 kB 431.9 kB/s eta 0:00:01\n",
      "   -------------------------------------  399.4/401.3 kB 429.0 kB/s eta 0:00:01\n",
      "   -------------------------------------- 401.3/401.3 kB 424.1 kB/s eta 0:00:00\n",
      "Downloading fsspec-2024.5.0-py3-none-any.whl (316 kB)\n",
      "   ---------------------------------------- 0.0/316.1 kB ? eta -:--:--\n",
      "   - -------------------------------------- 10.2/316.1 kB ? eta -:--:--\n",
      "   --- ----------------------------------- 30.7/316.1 kB 660.6 kB/s eta 0:00:01\n",
      "   ----- --------------------------------- 41.0/316.1 kB 326.8 kB/s eta 0:00:01\n",
      "   ------- ------------------------------- 61.4/316.1 kB 365.7 kB/s eta 0:00:01\n",
      "   ---------- ---------------------------- 81.9/316.1 kB 383.3 kB/s eta 0:00:01\n",
      "   ----------- --------------------------- 92.2/316.1 kB 374.1 kB/s eta 0:00:01\n",
      "   ----------- --------------------------- 92.2/316.1 kB 374.1 kB/s eta 0:00:01\n",
      "   ----------- --------------------------- 92.2/316.1 kB 374.1 kB/s eta 0:00:01\n",
      "   -------------- ----------------------- 122.9/316.1 kB 300.4 kB/s eta 0:00:01\n",
      "   -------------- ----------------------- 122.9/316.1 kB 300.4 kB/s eta 0:00:01\n",
      "   ------------------- ------------------ 163.8/316.1 kB 317.4 kB/s eta 0:00:01\n",
      "   ----------------------- -------------- 194.6/316.1 kB 357.9 kB/s eta 0:00:01\n",
      "   ----------------------- -------------- 194.6/316.1 kB 357.9 kB/s eta 0:00:01\n",
      "   ------------------------ ------------- 204.8/316.1 kB 327.5 kB/s eta 0:00:01\n",
      "   --------------------------- ---------- 225.3/316.1 kB 336.0 kB/s eta 0:00:01\n",
      "   ----------------------------- -------- 245.8/316.1 kB 335.0 kB/s eta 0:00:01\n",
      "   ----------------------------- -------- 245.8/316.1 kB 335.0 kB/s eta 0:00:01\n",
      "   -------------------------------- ----- 266.2/316.1 kB 321.2 kB/s eta 0:00:01\n",
      "   ---------------------------------- --- 286.7/316.1 kB 321.9 kB/s eta 0:00:01\n",
      "   ----------------------------------- -- 297.0/316.1 kB 316.5 kB/s eta 0:00:01\n",
      "   ------------------------------------ - 307.2/316.1 kB 316.9 kB/s eta 0:00:01\n",
      "   -------------------------------------- 316.1/316.1 kB 320.9 kB/s eta 0:00:00\n",
      "Downloading PyYAML-6.0.1-cp312-cp312-win_amd64.whl (138 kB)\n",
      "   ---------------------------------------- 0.0/138.7 kB ? eta -:--:--\n",
      "   -- ------------------------------------- 10.2/138.7 kB ? eta -:--:--\n",
      "   -- ------------------------------------- 10.2/138.7 kB ? eta -:--:--\n",
      "   -------- ------------------------------ 30.7/138.7 kB 325.1 kB/s eta 0:00:01\n",
      "   -------- ------------------------------ 30.7/138.7 kB 325.1 kB/s eta 0:00:01\n",
      "   -------- ------------------------------ 30.7/138.7 kB 325.1 kB/s eta 0:00:01\n",
      "   ----------------------- --------------- 81.9/138.7 kB 305.0 kB/s eta 0:00:01\n",
      "   ------------------------- ------------- 92.2/138.7 kB 275.8 kB/s eta 0:00:01\n",
      "   ------------------------------ ------- 112.6/138.7 kB 297.7 kB/s eta 0:00:01\n",
      "   --------------------------------- ---- 122.9/138.7 kB 277.4 kB/s eta 0:00:01\n",
      "   ------------------------------------ - 133.1/138.7 kB 271.3 kB/s eta 0:00:01\n",
      "   -------------------------------------- 138.7/138.7 kB 273.8 kB/s eta 0:00:00\n",
      "Downloading tqdm-4.66.4-py3-none-any.whl (78 kB)\n",
      "   ---------------------------------------- 0.0/78.3 kB ? eta -:--:--\n",
      "   ---------------------------------------- 0.0/78.3 kB ? eta -:--:--\n",
      "   ----- ---------------------------------- 10.2/78.3 kB ? eta -:--:--\n",
      "   --------------- ------------------------ 30.7/78.3 kB 262.6 kB/s eta 0:00:01\n",
      "   -------------------- ------------------- 41.0/78.3 kB 219.4 kB/s eta 0:00:01\n",
      "   -------------------- ------------------- 41.0/78.3 kB 219.4 kB/s eta 0:00:01\n",
      "   ------------------------------- -------- 61.4/78.3 kB 233.8 kB/s eta 0:00:01\n",
      "   ---------------------------------------- 78.3/78.3 kB 256.7 kB/s eta 0:00:00\n",
      "Downloading typing_extensions-4.12.0-py3-none-any.whl (37 kB)\n",
      "Using cached filelock-3.14.0-py3-none-any.whl (12 kB)\n",
      "Downloading requests-2.32.2-py3-none-any.whl (63 kB)\n",
      "   ---------------------------------------- 0.0/63.9 kB ? eta -:--:--\n",
      "   ---------------------------------------- 0.0/63.9 kB ? eta -:--:--\n",
      "   ---------------------------------------- 0.0/63.9 kB ? eta -:--:--\n",
      "   ---------------------------------------- 0.0/63.9 kB ? eta -:--:--\n",
      "   ---------------------------------------- 0.0/63.9 kB ? eta -:--:--\n",
      "   ------ --------------------------------- 10.2/63.9 kB ? eta -:--:--\n",
      "   ------------------------- -------------- 41.0/63.9 kB 393.8 kB/s eta 0:00:01\n",
      "   ---------------------------------------- 63.9/63.9 kB 429.3 kB/s eta 0:00:00\n",
      "Using cached certifi-2024.2.2-py3-none-any.whl (163 kB)\n",
      "Downloading charset_normalizer-3.3.2-cp312-cp312-win_amd64.whl (100 kB)\n",
      "   ---------------------------------------- 0.0/100.4 kB ? eta -:--:--\n",
      "   ---------------------------------------- 0.0/100.4 kB ? eta -:--:--\n",
      "   ---- ----------------------------------- 10.2/100.4 kB ? eta -:--:--\n",
      "   ---- ----------------------------------- 10.2/100.4 kB ? eta -:--:--\n",
      "   ----------- --------------------------- 30.7/100.4 kB 187.9 kB/s eta 0:00:01\n",
      "   --------------- ----------------------- 41.0/100.4 kB 164.3 kB/s eta 0:00:01\n",
      "   --------------- ----------------------- 41.0/100.4 kB 164.3 kB/s eta 0:00:01\n",
      "   --------------- ----------------------- 41.0/100.4 kB 164.3 kB/s eta 0:00:01\n",
      "   ----------------------- --------------- 61.4/100.4 kB 182.2 kB/s eta 0:00:01\n",
      "   --------------------------- ----------- 71.7/100.4 kB 179.1 kB/s eta 0:00:01\n",
      "   ----------------------------------- --- 92.2/100.4 kB 201.8 kB/s eta 0:00:01\n",
      "   -------------------------------------- 100.4/100.4 kB 206.3 kB/s eta 0:00:00\n",
      "Using cached idna-3.7-py3-none-any.whl (66 kB)\n",
      "Using cached urllib3-2.2.1-py3-none-any.whl (121 kB)\n",
      "Installing collected packages: urllib3, typing-extensions, tqdm, pyyaml, idna, fsspec, filelock, charset-normalizer, certifi, requests, huggingface_hub\n",
      "Successfully installed certifi-2024.2.2 charset-normalizer-3.3.2 filelock-3.14.0 fsspec-2024.5.0 huggingface_hub-0.23.1 idna-3.7 pyyaml-6.0.1 requests-2.32.2 tqdm-4.66.4 typing-extensions-4.12.0 urllib3-2.2.1\n",
      "Note: you may need to restart the kernel to use updated packages.\n"
     ]
    }
   ],
   "source": [
    "pip install -U huggingface_hub"
   ]
  },
  {
   "cell_type": "code",
   "execution_count": 2,
   "metadata": {},
   "outputs": [],
   "source": [
    "import os "
   ]
  },
  {
   "cell_type": "code",
   "execution_count": 3,
   "metadata": {},
   "outputs": [
    {
     "name": "stderr",
     "output_type": "stream",
     "text": [
      "d:\\puyuai\\puyuai\\.venv\\Lib\\site-packages\\tqdm\\auto.py:21: TqdmWarning: IProgress not found. Please update jupyter and ipywidgets. See https://ipywidgets.readthedocs.io/en/stable/user_install.html\n",
      "  from .autonotebook import tqdm as notebook_tqdm\n"
     ]
    }
   ],
   "source": [
    "from huggingface_hub import hf_hub_download  # Load model directly "
   ]
  },
  {
   "cell_type": "code",
   "execution_count": 7,
   "metadata": {},
   "outputs": [
    {
     "name": "stderr",
     "output_type": "stream",
     "text": [
      "<>:1: SyntaxWarning: invalid escape sequence '\\p'\n",
      "<>:1: SyntaxWarning: invalid escape sequence '\\p'\n",
      "C:\\Users\\dshj5\\AppData\\Local\\Temp\\ipykernel_18764\\1545403584.py:1: SyntaxWarning: invalid escape sequence '\\p'\n",
      "  hf_hub_download(repo_id=\"internlm/internlm2-7b\", filename=\"config.json\", local_dir=\"D:\\puyuai\\puyuai\\class2\")\n"
     ]
    },
    {
     "data": {
      "text/plain": [
       "'D:\\\\puyuai\\\\puyuai\\\\class2\\\\config.json'"
      ]
     },
     "execution_count": 7,
     "metadata": {},
     "output_type": "execute_result"
    }
   ],
   "source": [
    "hf_hub_download(repo_id=\"internlm/internlm2-7b\", filename=\"config.json\", local_dir=\"D:\\puyuai\\puyuai\\class2\")"
   ]
  }
 ],
 "metadata": {
  "kernelspec": {
   "display_name": ".venv",
   "language": "python",
   "name": "python3"
  },
  "language_info": {
   "codemirror_mode": {
    "name": "ipython",
    "version": 3
   },
   "file_extension": ".py",
   "mimetype": "text/x-python",
   "name": "python",
   "nbconvert_exporter": "python",
   "pygments_lexer": "ipython3",
   "version": "3.12.2"
  }
 },
 "nbformat": 4,
 "nbformat_minor": 2
}
